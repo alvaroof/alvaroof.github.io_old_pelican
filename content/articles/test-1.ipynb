{
 "metadata": {
  "language_info": {
   "codemirror_mode": {
    "name": "ipython",
    "version": 3
   },
   "file_extension": ".py",
   "mimetype": "text/x-python",
   "name": "python",
   "nbconvert_exporter": "python",
   "pygments_lexer": "ipython3",
   "version": 3
  },
  "orig_nbformat": 2
 },
 "nbformat": 4,
 "nbformat_minor": 2,
 "cells": [
  {
   "source": [
    "# LOREM LOREM\n",
    "\n",
    "\n",
    "Lorem ipsum dolor sit amet, consectetur adipiscing elit. Duis neque enim, rutrum at libero sed, molestie porttitor erat. Nulla malesuada felis at elit posuere suscipit. Nulla facilisi. Vivamus luctus ligula nec eros vestibulum, a maximus nunc pretium. Nullam vel ultrices libero, vel bibendum ipsum. Ut eu fermentum dui. Donec vehicula sagittis sagittis. Fusce ornare magna velit, pellentesque porta mi sagittis ac. Maecenas dignissim pulvinar arcu lobortis gravida. Praesent sed condimentum felis. Vestibulum massa sapien, ultrices quis porttitor rutrum, accumsan eget nunc.\n",
    "\n",
    "Cras ac vestibulum odio. Donec accumsan felis at magna mattis, et euismod enim rutrum. Integer id tempor magna, in aliquet eros. Sed vitae sapien vitae nisi dapibus efficitur et vel velit. Etiam tincidunt felis ut ex venenatis posuere. Curabitur vestibulum tincidunt hendrerit. Nulla sed sapien vel libero cursus aliquet. Quisque id dolor sit amet dolor interdum interdum. Curabitur semper interdum posuere. Donec lobortis consectetur leo, nec auctor orci ornare pharetra. In et ipsum quis mauris posuere luctus non a felis.\n",
    "\n",
    "Orci varius natoque penatibus et magnis dis parturient montes, nascetur ridiculus mus. Nunc dolor magna, porttitor a dui sed, condimentum ornare ipsum. Cras neque nulla, dignissim bibendum viverra eu, feugiat pulvinar libero. Etiam dignissim pretium lacus ac tempus. Pellentesque dapibus eu magna id sollicitudin. Duis sit amet massa scelerisque, vestibulum sem non, facilisis urna. Quisque non ante faucibus, pharetra lacus eget, hendrerit sapien. "
   ],
   "cell_type": "markdown",
   "metadata": {}
  }
 ]
}